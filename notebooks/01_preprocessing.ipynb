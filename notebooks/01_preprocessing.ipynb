{
 "cells": [
  {
   "cell_type": "code",
   "execution_count": 246,
   "metadata": {},
   "outputs": [
    {
     "data": {
      "text/plain": [
       "\"\\n    This notebook to replace the strings in yearsCode\\n    and to change the object variables from string to array where we seperated the string with ';'\\n\""
      ]
     },
     "execution_count": 246,
     "metadata": {},
     "output_type": "execute_result"
    }
   ],
   "source": [
    "'''\n",
    "    This notebook to replace the strings in yearsCode\n",
    "    and to change the object variables from string to array where we seperated the string with ';'\n",
    "'''"
   ]
  },
  {
   "cell_type": "code",
   "execution_count": 5,
   "metadata": {},
   "outputs": [],
   "source": [
    "URL = \"../data/raw/survey_results_public.csv\"\n",
    "EXPORT_URL = \"../data/processed/1_preprocessed_df.pkl\"\n",
    "VARIABLE_COLS = [ \"LanguageHaveWorkedWith\",\n",
    "                \"DatabaseHaveWorkedWith\",\n",
    "                \"PlatformHaveWorkedWith\",\n",
    "                \"WebframeHaveWorkedWith\",\n",
    "                \"MiscTechHaveWorkedWith\",\n",
    "                \"ToolsTechHaveWorkedWith\",\n",
    "                \"NEWCollabToolsHaveWorkedWith\"]\n",
    "TAREGET_COL = [\"DevType\"]\n",
    "REPLACE_DICT = {'Less than 1 year' : 0, 'More than 50 years' : 1}\n",
    "OBJ_COL_TO_REPLACE = [\"YearsCode\", \"YearsCodePro\"]"
   ]
  },
  {
   "cell_type": "code",
   "execution_count": 6,
   "metadata": {},
   "outputs": [],
   "source": [
    "import pandas as pd\n",
    "import numpy as np"
   ]
  },
  {
   "cell_type": "code",
   "execution_count": 226,
   "metadata": {},
   "outputs": [],
   "source": [
    "def split_answers(series, delimiter=\";\"):\n",
    "    \n",
    "    def is_splittable(pd_series, delimiter=\";\"):\n",
    "        return pd_series.str.contains(delimiter).any()\n",
    "    \n",
    "    if not is_splittable(series, delimiter):\n",
    "        return series\n",
    "    \n",
    "    modified_series = series.str.split(delimiter)\n",
    "\n",
    "    \"\"\"\n",
    "        Can't make isna() on a series with []\n",
    "        it gives error\n",
    "        so we have to explicitly get the null values alone and then do the mapping to an empty array\n",
    "        to become compaible with the other instances\n",
    "    \"\"\"\n",
    "    \n",
    "    null_mask = modified_series.isnull()\n",
    "    \n",
    "    modified_series.loc[null_mask] = modified_series[null_mask].apply(lambda x: [])\n",
    "    \n",
    "    return modified_series"
   ]
  },
  {
   "cell_type": "code",
   "execution_count": 227,
   "metadata": {},
   "outputs": [],
   "source": [
    "raw_df = pd.read_csv(URL)\n",
    "df = raw_df.copy()"
   ]
  },
  {
   "cell_type": "code",
   "execution_count": 228,
   "metadata": {},
   "outputs": [],
   "source": [
    "for col in OBJ_COL_TO_REPLACE:\n",
    "    df[col] = df[col].replace(REPLACE_DICT).astype(np.float32)"
   ]
  },
  {
   "cell_type": "code",
   "execution_count": 229,
   "metadata": {},
   "outputs": [
    {
     "name": "stdout",
     "output_type": "stream",
     "text": [
      "YearsCode         1\n",
      "YearsCodePro    NaN\n",
      "Name: 30555, dtype: object\n",
      "-------------------------\n",
      "YearsCode       1.0\n",
      "YearsCodePro    NaN\n",
      "Name: 30555, dtype: object\n"
     ]
    }
   ],
   "source": [
    "i = df.sample(1).index[0]\n",
    "\n",
    "print(raw_df.iloc[i][OBJ_COL_TO_REPLACE])\n",
    "print(\"-------------------------\")\n",
    "print(df.iloc[i][OBJ_COL_TO_REPLACE])\n"
   ]
  },
  {
   "cell_type": "code",
   "execution_count": 230,
   "metadata": {},
   "outputs": [],
   "source": [
    "object_cols = df.select_dtypes(include='object').columns.tolist()\n",
    "for col in object_cols:\n",
    "    df[col] = split_answers(df[col])"
   ]
  },
  {
   "cell_type": "code",
   "execution_count": 243,
   "metadata": {},
   "outputs": [
    {
     "name": "stdout",
     "output_type": "stream",
     "text": [
      "nan\n",
      "-------------------------\n",
      "[]\n"
     ]
    }
   ],
   "source": [
    "i = df.sample(1).index[0]\n",
    "\n",
    "print(raw_df.iloc[i][\"LanguageHaveWorkedWith\"])\n",
    "print(\"-------------------------\")\n",
    "print(df.iloc[i][\"LanguageHaveWorkedWith\"])"
   ]
  },
  {
   "cell_type": "code",
   "execution_count": 245,
   "metadata": {},
   "outputs": [],
   "source": [
    "df.to_pickle(EXPORT_URL)"
   ]
  },
  {
   "cell_type": "code",
   "execution_count": null,
   "metadata": {},
   "outputs": [],
   "source": [
    "print(\"omar\")"
   ]
  }
 ],
 "metadata": {
  "kernelspec": {
   "display_name": "base",
   "language": "python",
   "name": "python3"
  },
  "language_info": {
   "codemirror_mode": {
    "name": "ipython",
    "version": 3
   },
   "file_extension": ".py",
   "mimetype": "text/x-python",
   "name": "python",
   "nbconvert_exporter": "python",
   "pygments_lexer": "ipython3",
   "version": "3.11.7"
  }
 },
 "nbformat": 4,
 "nbformat_minor": 2
}
