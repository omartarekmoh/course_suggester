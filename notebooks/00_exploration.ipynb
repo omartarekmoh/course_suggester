{
 "cells": [
  {
   "cell_type": "code",
   "execution_count": null,
   "metadata": {},
   "outputs": [],
   "source": [
    "URL = \"../data/raw/survey_results_public.csv\""
   ]
  },
  {
   "cell_type": "code",
   "execution_count": 3,
   "metadata": {},
   "outputs": [],
   "source": [
    "import pandas as pd\n",
    "import numpy as np\n",
    "pd.options.display.max_rows = 1000"
   ]
  },
  {
   "cell_type": "code",
   "execution_count": 9,
   "metadata": {},
   "outputs": [
    {
     "data": {
      "text/plain": [
       "(83439, 48)"
      ]
     },
     "execution_count": 9,
     "metadata": {},
     "output_type": "execute_result"
    }
   ],
   "source": [
    "raw_df = pd.read_csv(URL)\n",
    "raw_df.shape"
   ]
  },
  {
   "cell_type": "code",
   "execution_count": 14,
   "metadata": {},
   "outputs": [
    {
     "data": {
      "text/plain": [
       "ResponseId                                                                  74052\n",
       "MainBranch                                 I am a student who is learning to code\n",
       "Employment                                 Not employed, and not looking for work\n",
       "Country                                                                     Egypt\n",
       "US_State                                                                      NaN\n",
       "UK_Country                                                                    NaN\n",
       "EdLevel                              Bachelor’s degree (B.A., B.S., B.Eng., etc.)\n",
       "Age1stCode                                                          18 - 24 years\n",
       "LearnCode                       Other online resources (ex: videos, blogs, etc...\n",
       "YearsCode                                                        Less than 1 year\n",
       "YearsCodePro                                                                  NaN\n",
       "DevType                                                                       NaN\n",
       "OrgSize                                                                       NaN\n",
       "Currency                                                                      NaN\n",
       "CompTotal                                                                     NaN\n",
       "CompFreq                                                                      NaN\n",
       "LanguageHaveWorkedWith          C;C#;C++;HTML/CSS;Java;JavaScript;Node.js;Pyth...\n",
       "LanguageWantToWorkWith                                   C#;F#;JavaScript;Node.js\n",
       "DatabaseHaveWorkedWith                                Microsoft SQL Server;SQLite\n",
       "DatabaseWantToWorkWith               Elasticsearch;MongoDB;MySQL;PostgreSQL;Redis\n",
       "PlatformHaveWorkedWith                                                        NaN\n",
       "PlatformWantToWorkWith                                                        NaN\n",
       "WebframeHaveWorkedWith                                 ASP.NET Core ;Django;Flask\n",
       "WebframeWantToWorkWith                                       ASP.NET Core ;Django\n",
       "MiscTechHaveWorkedWith                                         .NET Core / .NET 5\n",
       "MiscTechWantToWorkWith                                         .NET Core / .NET 5\n",
       "ToolsTechHaveWorkedWith                                                       NaN\n",
       "ToolsTechWantToWorkWith                                                       NaN\n",
       "NEWCollabToolsHaveWorkedWith    Emacs;IntelliJ;PyCharm;Rider;Visual Studio;Vis...\n",
       "NEWCollabToolsWantToWorkWith                             Rider;Visual Studio Code\n",
       "OpSys                                                                     Windows\n",
       "NEWStuck                                                                Google it\n",
       "NEWSOSites                                                         Stack Overflow\n",
       "SOVisitFreq                                                 Daily or almost daily\n",
       "SOAccount                                                                     Yes\n",
       "SOPartFreq                      I have never participated in Q&A on Stack Over...\n",
       "SOComm                                                             No, not at all\n",
       "NEWOtherComms                                                                  No\n",
       "Age                                                               18-24 years old\n",
       "Gender                                                                        Man\n",
       "Trans                                                                          No\n",
       "Sexuality                                                 Straight / Heterosexual\n",
       "Ethnicity                                                          Middle Eastern\n",
       "Accessibility                                                   None of the above\n",
       "MentalHealth                                           I have an anxiety disorder\n",
       "SurveyLength                                                Appropriate in length\n",
       "SurveyEase                                                                   Easy\n",
       "ConvertedCompYearly                                                           NaN\n",
       "Name: 74051, dtype: object"
      ]
     },
     "execution_count": 14,
     "metadata": {},
     "output_type": "execute_result"
    }
   ],
   "source": [
    "raw_df.sample(1).iloc[0]"
   ]
  },
  {
   "cell_type": "code",
   "execution_count": 11,
   "metadata": {},
   "outputs": [
    {
     "name": "stdout",
     "output_type": "stream",
     "text": [
      "<class 'pandas.core.frame.DataFrame'>\n",
      "RangeIndex: 83439 entries, 0 to 83438\n",
      "Data columns (total 48 columns):\n",
      " #   Column                        Non-Null Count  Dtype  \n",
      "---  ------                        --------------  -----  \n",
      " 0   ResponseId                    83439 non-null  int64  \n",
      " 1   MainBranch                    83439 non-null  object \n",
      " 2   Employment                    83323 non-null  object \n",
      " 3   Country                       83439 non-null  object \n",
      " 4   US_State                      14920 non-null  object \n",
      " 5   UK_Country                    4418 non-null   object \n",
      " 6   EdLevel                       83126 non-null  object \n",
      " 7   Age1stCode                    83243 non-null  object \n",
      " 8   LearnCode                     82963 non-null  object \n",
      " 9   YearsCode                     81641 non-null  object \n",
      " 10  YearsCodePro                  61216 non-null  object \n",
      " 11  DevType                       66484 non-null  object \n",
      " 12  OrgSize                       60726 non-null  object \n",
      " 13  Currency                      61080 non-null  object \n",
      " 14  CompTotal                     47183 non-null  float64\n",
      " 15  CompFreq                      52150 non-null  object \n",
      " 16  LanguageHaveWorkedWith        82357 non-null  object \n",
      " 17  LanguageWantToWorkWith        76821 non-null  object \n",
      " 18  DatabaseHaveWorkedWith        69546 non-null  object \n",
      " 19  DatabaseWantToWorkWith        58299 non-null  object \n",
      " 20  PlatformHaveWorkedWith        52135 non-null  object \n",
      " 21  PlatformWantToWorkWith        41619 non-null  object \n",
      " 22  WebframeHaveWorkedWith        61707 non-null  object \n",
      " 23  WebframeWantToWorkWith        52095 non-null  object \n",
      " 24  MiscTechHaveWorkedWith        47055 non-null  object \n",
      " 25  MiscTechWantToWorkWith        38021 non-null  object \n",
      " 26  ToolsTechHaveWorkedWith       72537 non-null  object \n",
      " 27  ToolsTechWantToWorkWith       65480 non-null  object \n",
      " 28  NEWCollabToolsHaveWorkedWith  81234 non-null  object \n",
      " 29  NEWCollabToolsWantToWorkWith  73022 non-null  object \n",
      " 30  OpSys                         83294 non-null  object \n",
      " 31  NEWStuck                      83052 non-null  object \n",
      " 32  NEWSOSites                    83171 non-null  object \n",
      " 33  SOVisitFreq                   82413 non-null  object \n",
      " 34  SOAccount                     82525 non-null  object \n",
      " 35  SOPartFreq                    67553 non-null  object \n",
      " 36  SOComm                        82319 non-null  object \n",
      " 37  NEWOtherComms                 82828 non-null  object \n",
      " 38  Age                           82407 non-null  object \n",
      " 39  Gender                        82286 non-null  object \n",
      " 40  Trans                         80678 non-null  object \n",
      " 41  Sexuality                     73366 non-null  object \n",
      " 42  Ethnicity                     79464 non-null  object \n",
      " 43  Accessibility                 77603 non-null  object \n",
      " 44  MentalHealth                  76920 non-null  object \n",
      " 45  SurveyLength                  81711 non-null  object \n",
      " 46  SurveyEase                    81948 non-null  object \n",
      " 47  ConvertedCompYearly           46844 non-null  float64\n",
      "dtypes: float64(2), int64(1), object(45)\n",
      "memory usage: 30.6+ MB\n"
     ]
    }
   ],
   "source": [
    "raw_df.info()"
   ]
  },
  {
   "cell_type": "code",
   "execution_count": 12,
   "metadata": {},
   "outputs": [
    {
     "data": {
      "text/html": [
       "<div>\n",
       "<style scoped>\n",
       "    .dataframe tbody tr th:only-of-type {\n",
       "        vertical-align: middle;\n",
       "    }\n",
       "\n",
       "    .dataframe tbody tr th {\n",
       "        vertical-align: top;\n",
       "    }\n",
       "\n",
       "    .dataframe thead th {\n",
       "        text-align: right;\n",
       "    }\n",
       "</style>\n",
       "<table border=\"1\" class=\"dataframe\">\n",
       "  <thead>\n",
       "    <tr style=\"text-align: right;\">\n",
       "      <th></th>\n",
       "      <th>ResponseId</th>\n",
       "      <th>CompTotal</th>\n",
       "      <th>ConvertedCompYearly</th>\n",
       "    </tr>\n",
       "  </thead>\n",
       "  <tbody>\n",
       "    <tr>\n",
       "      <th>count</th>\n",
       "      <td>83439.000000</td>\n",
       "      <td>4.718300e+04</td>\n",
       "      <td>4.684400e+04</td>\n",
       "    </tr>\n",
       "    <tr>\n",
       "      <th>mean</th>\n",
       "      <td>41720.000000</td>\n",
       "      <td>2.119407e+69</td>\n",
       "      <td>1.184262e+05</td>\n",
       "    </tr>\n",
       "    <tr>\n",
       "      <th>std</th>\n",
       "      <td>24086.908893</td>\n",
       "      <td>4.603702e+71</td>\n",
       "      <td>5.272944e+05</td>\n",
       "    </tr>\n",
       "    <tr>\n",
       "      <th>min</th>\n",
       "      <td>1.000000</td>\n",
       "      <td>0.000000e+00</td>\n",
       "      <td>1.000000e+00</td>\n",
       "    </tr>\n",
       "    <tr>\n",
       "      <th>25%</th>\n",
       "      <td>20860.500000</td>\n",
       "      <td>1.600000e+04</td>\n",
       "      <td>2.702500e+04</td>\n",
       "    </tr>\n",
       "    <tr>\n",
       "      <th>50%</th>\n",
       "      <td>41720.000000</td>\n",
       "      <td>6.700000e+04</td>\n",
       "      <td>5.621100e+04</td>\n",
       "    </tr>\n",
       "    <tr>\n",
       "      <th>75%</th>\n",
       "      <td>62579.500000</td>\n",
       "      <td>1.400000e+05</td>\n",
       "      <td>1.000000e+05</td>\n",
       "    </tr>\n",
       "    <tr>\n",
       "      <th>max</th>\n",
       "      <td>83439.000000</td>\n",
       "      <td>1.000000e+74</td>\n",
       "      <td>4.524131e+07</td>\n",
       "    </tr>\n",
       "  </tbody>\n",
       "</table>\n",
       "</div>"
      ],
      "text/plain": [
       "         ResponseId     CompTotal  ConvertedCompYearly\n",
       "count  83439.000000  4.718300e+04         4.684400e+04\n",
       "mean   41720.000000  2.119407e+69         1.184262e+05\n",
       "std    24086.908893  4.603702e+71         5.272944e+05\n",
       "min        1.000000  0.000000e+00         1.000000e+00\n",
       "25%    20860.500000  1.600000e+04         2.702500e+04\n",
       "50%    41720.000000  6.700000e+04         5.621100e+04\n",
       "75%    62579.500000  1.400000e+05         1.000000e+05\n",
       "max    83439.000000  1.000000e+74         4.524131e+07"
      ]
     },
     "execution_count": 12,
     "metadata": {},
     "output_type": "execute_result"
    }
   ],
   "source": [
    "raw_df.describe()"
   ]
  },
  {
   "cell_type": "code",
   "execution_count": 15,
   "metadata": {},
   "outputs": [
    {
     "data": {
      "text/plain": [
       "'\\nYearsCode                     81641 non-null  object \\nYearsCodePro                  61216 non-null  object \\nobject even though they are supposed to be numbers\\n\\n Target column DevType\\n\\n Columns that can be utilized\\n\\n 16  LanguageHaveWorkedWith        82357 non-null  object \\n 17  LanguageWantToWorkWith        76821 non-null  object \\n 18  DatabaseHaveWorkedWith        69546 non-null  object \\n 20  PlatformHaveWorkedWith        52135 non-null  object \\n 21  PlatformWantToWorkWith        41619 non-null  object \\n 22  WebframeHaveWorkedWith        61707 non-null  object \\n 24  MiscTechHaveWorkedWith        47055 non-null  object \\n 26  ToolsTechHaveWorkedWith       72537 non-null  object \\n 28  NEWCollabToolsHaveWorkedWith  81234 non-null  object \\n \\n'"
      ]
     },
     "execution_count": 15,
     "metadata": {},
     "output_type": "execute_result"
    }
   ],
   "source": [
    "'''\n",
    "YearsCode                     81641 non-null  object \n",
    "YearsCodePro                  61216 non-null  object \n",
    "object even though they are supposed to be numbers\n",
    "\n",
    " Target column DevType\n",
    "\n",
    " Columns that can be utilized\n",
    "\n",
    " \"LanguageHaveWorkedWith\"\n",
    " \"DatabaseHaveWorkedWith\"\n",
    " \"PlatformHaveWorkedWith\"\n",
    " \"WebframeHaveWorkedWith\"\n",
    " \"MiscTechHaveWorkedWith\"\n",
    " \"ToolsTechHaveWorkedWith\"\n",
    " \"NEWCollabToolsHaveWorkedWith\"\n",
    " \n",
    "'''"
   ]
  },
  {
   "cell_type": "code",
   "execution_count": 23,
   "metadata": {},
   "outputs": [
    {
     "name": "stdout",
     "output_type": "stream",
     "text": [
      "[nan '7' '17' '3' '4' '6' '16' '12' '15' '10' '40' '9' '26' '14' '39' '20'\n",
      " '8' '19' '5' 'Less than 1 year' '22' '2' '1' '34' '21' '13' '25' '24'\n",
      " '30' '31' '18' '38' 'More than 50 years' '27' '41' '42' '35' '23' '28'\n",
      " '11' '37' '44' '43' '36' '33' '45' '29' '50' '46' '32' '47' '49' '48']\n",
      "____________________________________\n",
      "[nan '10' '4' '5' '6' '2' '30' '9' '18' '12' '21' '1' '16'\n",
      " 'Less than 1 year' '15' '3' '35' '7' '8' '17' '14' '26' '25' '20' '50'\n",
      " '34' '11' '24' '22' '13' '31' '23' '39' '41' '27' '28' '19' '33'\n",
      " 'More than 50 years' '37' '29' '32' '43' '40' '38' '45' '42' '46' '36'\n",
      " '44' '47' '48' '49']\n",
      "____________________________________\n"
     ]
    }
   ],
   "source": [
    "num_cols = [\"YearsCode\", \"YearsCodePro\"]\n",
    "\n",
    "for col in num_cols:\n",
    "    print(raw_df[col].unique())\n",
    "    print(\"____________________________________\")"
   ]
  },
  {
   "cell_type": "code",
   "execution_count": 24,
   "metadata": {},
   "outputs": [
    {
     "data": {
      "text/plain": [
       "{'Less than 1 year': 0, 'More than 50 years': 1}"
      ]
     },
     "execution_count": 24,
     "metadata": {},
     "output_type": "execute_result"
    }
   ],
   "source": [
    "# altering the questionable col to be fully float\n",
    "\n",
    "{'Less than 1 year' : 0, 'More than 50 years' : 1}"
   ]
  }
 ],
 "metadata": {
  "kernelspec": {
   "display_name": "base",
   "language": "python",
   "name": "python3"
  },
  "language_info": {
   "codemirror_mode": {
    "name": "ipython",
    "version": 3
   },
   "file_extension": ".py",
   "mimetype": "text/x-python",
   "name": "python",
   "nbconvert_exporter": "python",
   "pygments_lexer": "ipython3",
   "version": "3.11.7"
  }
 },
 "nbformat": 4,
 "nbformat_minor": 2
}
